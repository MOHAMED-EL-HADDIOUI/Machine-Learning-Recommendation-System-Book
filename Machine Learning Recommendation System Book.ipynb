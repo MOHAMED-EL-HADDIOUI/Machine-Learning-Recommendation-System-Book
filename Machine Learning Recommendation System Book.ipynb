{
 "cells": [
  {
   "cell_type": "markdown",
   "metadata": {
    "colab_type": "text",
    "id": "clDIOmE-Iybb"
   },
   "source": [
    "# Machine Learning Recommendation System: Book Crossing Dataset\n",
    "\n",
    "## À propos du dataset Book Crossing\n",
    "\n",
    "Ce dataset a été compilé par Cai-Nicolas Ziegler en 2004 et comprend trois tables :\n",
    "\n",
    "1. **Utilisateurs** : Informations sur les utilisateurs du système.\n",
    "2. **Livres** : Détails sur les livres disponibles dans le système.\n",
    "3. **Évaluations** : Les évaluations des livres par les utilisateurs, exprimées comme suit :\n",
    "   - **Évaluations explicites** : Sur une échelle de 1 à 10, où les valeurs les plus élevées indiquent une plus grande appréciation.\n",
    "   - **Évaluations implicites** : Exprimées par 0, indiquant qu'un utilisateur n'a pas évalué le livre.\n",
    "\n",
    "## À propos de ce projet\n",
    "\n",
    "Ce projet consiste à construire un **système de recommandation de livres** pour les utilisateurs basé sur des approches de **filtrage collaboratif** centrées sur :\n",
    "\n",
    "- **L'utilisateur** : Recommandations basées sur les préférences d'un utilisateur similaire.\n",
    "- **L'élément** : Recommandations basées sur la similarité entre les livres.\n",
    "\n",
    "---\n",
    "\n",
    "### Suggestions for Structuring Your Jupyter Notebook\n",
    "\n",
    "1. **Title Section**: Include the title of the project at the top with your name and date.\n",
    "   \n",
    "2. **Introduction**:\n",
    "   - Briefly describe the goal of the project.\n",
    "   - Provide a summary of the dataset and its relevance.\n",
    "\n",
    "3. **Data Overview**:\n",
    "   - Include a section for data exploration, summarizing the three tables.\n",
    "   - Use visualizations (like histograms or bar charts) to illustrate the distribution of ratings.\n",
    "\n",
    "4. **Methodology**:\n",
    "   - Detail the collaborative filtering approaches you plan to implement.\n",
    "   - Explain any algorithms or techniques you will use (e.g., matrix factorization, nearest neighbors).\n",
    "\n",
    "5. **Implementation**:\n",
    "   - Code snippets demonstrating data preprocessing, model training, and evaluation.\n",
    "   - Ensure to comment your code for clarity.\n",
    "\n",
    "6. **Results**:\n",
    "   - Present the outcomes of your recommendation system.\n",
    "   - Use visualizations to show recommendations for users or performance metrics.\n",
    "\n",
    "7. **Conclusion**:\n",
    "   - Summarize the findings and potential improvements for future work.\n",
    "\n",
    "8. **References**:\n",
    "   - Include any references used in your research or project.\n"
   ]
  },
  {
   "cell_type": "markdown",
   "metadata": {},
   "source": [
    "## Importation des bibliothèques pour le système de recommandation de livres"
   ]
  },
  {
   "cell_type": "code",
   "execution_count": 19,
   "metadata": {
    "ExecuteTime": {
     "end_time": "2024-09-28T03:24:30.425478600Z",
     "start_time": "2024-09-28T03:24:30.301398800Z"
    },
    "colab": {},
    "colab_type": "code",
    "id": "P89E-EmORIPa"
   },
   "outputs": [],
   "source": [
    "# Importing Required Libraries\n",
    "\n",
    "# Allowing multiple loading of the KMP library (for certain environments)\n",
    "import os\n",
    "os.environ[\"KMP_DUPLICATE_LIB_OK\"] = \"TRUE\"\n",
    "\n",
    "# Data Manipulation Libraries\n",
    "import pandas as pd\n",
    "import numpy as np\n",
    "\n",
    "import pickle\n",
    "\n",
    "# Import necessary functions from Fast.ai\n",
    "from fastai.collab import CollabDataLoaders, collab_learner\n",
    "from fastai import *\n",
    "from fastai.tabular.all import *\n",
    "\n",
    "\n",
    "# Visualization Libraries\n",
    "import matplotlib.pyplot as plt\n",
    "import seaborn as sns\n",
    "\n",
    "from sklearn.feature_extraction.text import TfidfVectorizer\n",
    "from annoy import AnnoyIndex\n",
    "\n"
   ]
  },
  {
   "cell_type": "code",
   "execution_count": 2,
   "metadata": {
    "colab": {},
    "colab_type": "code",
    "id": "KFJzWXTKQnBU"
   },
   "outputs": [
    {
     "data": {
      "text/html": [
       "<div>\n",
       "<style scoped>\n",
       "    .dataframe tbody tr th:only-of-type {\n",
       "        vertical-align: middle;\n",
       "    }\n",
       "\n",
       "    .dataframe tbody tr th {\n",
       "        vertical-align: top;\n",
       "    }\n",
       "\n",
       "    .dataframe thead th {\n",
       "        text-align: right;\n",
       "    }\n",
       "</style>\n",
       "<table border=\"1\" class=\"dataframe\">\n",
       "  <thead>\n",
       "    <tr style=\"text-align: right;\">\n",
       "      <th></th>\n",
       "      <th>userId</th>\n",
       "      <th>ISBN</th>\n",
       "      <th>bookRating</th>\n",
       "    </tr>\n",
       "  </thead>\n",
       "  <tbody>\n",
       "    <tr>\n",
       "      <th>0</th>\n",
       "      <td>276725</td>\n",
       "      <td>034545104X</td>\n",
       "      <td>0</td>\n",
       "    </tr>\n",
       "    <tr>\n",
       "      <th>1</th>\n",
       "      <td>276726</td>\n",
       "      <td>0155061224</td>\n",
       "      <td>5</td>\n",
       "    </tr>\n",
       "    <tr>\n",
       "      <th>2</th>\n",
       "      <td>276727</td>\n",
       "      <td>0446520802</td>\n",
       "      <td>0</td>\n",
       "    </tr>\n",
       "    <tr>\n",
       "      <th>3</th>\n",
       "      <td>276729</td>\n",
       "      <td>052165615X</td>\n",
       "      <td>3</td>\n",
       "    </tr>\n",
       "    <tr>\n",
       "      <th>4</th>\n",
       "      <td>276729</td>\n",
       "      <td>0521795028</td>\n",
       "      <td>6</td>\n",
       "    </tr>\n",
       "  </tbody>\n",
       "</table>\n",
       "</div>"
      ],
      "text/plain": [
       "   userId        ISBN  bookRating\n",
       "0  276725  034545104X           0\n",
       "1  276726  0155061224           5\n",
       "2  276727  0446520802           0\n",
       "3  276729  052165615X           3\n",
       "4  276729  0521795028           6"
      ]
     },
     "execution_count": 2,
     "metadata": {},
     "output_type": "execute_result"
    }
   ],
   "source": [
    "# Load the Ratings Dataset\n",
    "\n",
    "# Load the dataset from a CSV file\n",
    "ratings = pd.read_csv('./Dataset/BX-Book-Ratings.csv', delimiter=\";\", encoding=\"latin1\")\n",
    "\n",
    "# Rename the columns for easier access\n",
    "ratings.columns = ['userId', 'ISBN', 'bookRating']\n",
    "\n",
    "# Display the first few rows of the ratings dataset\n",
    "ratings.head()\n"
   ]
  },
  {
   "cell_type": "code",
   "execution_count": 3,
   "metadata": {
    "colab": {},
    "colab_type": "code",
    "id": "-Tz9khC0Y36R"
   },
   "outputs": [
    {
     "data": {
      "text/html": [
       "<div>\n",
       "<style scoped>\n",
       "    .dataframe tbody tr th:only-of-type {\n",
       "        vertical-align: middle;\n",
       "    }\n",
       "\n",
       "    .dataframe tbody tr th {\n",
       "        vertical-align: top;\n",
       "    }\n",
       "\n",
       "    .dataframe thead th {\n",
       "        text-align: right;\n",
       "    }\n",
       "</style>\n",
       "<table border=\"1\" class=\"dataframe\">\n",
       "  <thead>\n",
       "    <tr style=\"text-align: right;\">\n",
       "      <th></th>\n",
       "      <th>userId</th>\n",
       "      <th>location</th>\n",
       "      <th>age</th>\n",
       "    </tr>\n",
       "  </thead>\n",
       "  <tbody>\n",
       "    <tr>\n",
       "      <th>0</th>\n",
       "      <td>1</td>\n",
       "      <td>nyc, new york, usa</td>\n",
       "      <td>NaN</td>\n",
       "    </tr>\n",
       "    <tr>\n",
       "      <th>1</th>\n",
       "      <td>2</td>\n",
       "      <td>stockton, california, usa</td>\n",
       "      <td>18.0</td>\n",
       "    </tr>\n",
       "    <tr>\n",
       "      <th>2</th>\n",
       "      <td>3</td>\n",
       "      <td>moscow, yukon territory, russia</td>\n",
       "      <td>NaN</td>\n",
       "    </tr>\n",
       "    <tr>\n",
       "      <th>3</th>\n",
       "      <td>4</td>\n",
       "      <td>porto, v.n.gaia, portugal</td>\n",
       "      <td>17.0</td>\n",
       "    </tr>\n",
       "    <tr>\n",
       "      <th>4</th>\n",
       "      <td>5</td>\n",
       "      <td>farnborough, hants, united kingdom</td>\n",
       "      <td>NaN</td>\n",
       "    </tr>\n",
       "  </tbody>\n",
       "</table>\n",
       "</div>"
      ],
      "text/plain": [
       "   userId                            location   age\n",
       "0       1                  nyc, new york, usa   NaN\n",
       "1       2           stockton, california, usa  18.0\n",
       "2       3     moscow, yukon territory, russia   NaN\n",
       "3       4           porto, v.n.gaia, portugal  17.0\n",
       "4       5  farnborough, hants, united kingdom   NaN"
      ]
     },
     "execution_count": 3,
     "metadata": {},
     "output_type": "execute_result"
    }
   ],
   "source": [
    "# Load the Users Dataset\n",
    "\n",
    "# Load the dataset from a CSV file\n",
    "users = pd.read_csv('./Dataset/BX-Users.csv', delimiter=\";\", encoding=\"latin1\")\n",
    "\n",
    "# Rename the columns for easier access\n",
    "users.columns = ['userId', 'location', 'age']\n",
    "\n",
    "# Display the first few rows of the users dataset\n",
    "users.head()\n"
   ]
  },
  {
   "cell_type": "code",
   "execution_count": 4,
   "metadata": {
    "colab": {
     "base_uri": "https://localhost:8080/",
     "height": 150
    },
    "colab_type": "code",
    "id": "fwblV96-klbN",
    "outputId": "b0c156d1-fa95-4805-920a-e1e5a3a3c150"
   },
   "outputs": [
    {
     "name": "stderr",
     "output_type": "stream",
     "text": [
      "C:\\Users\\asus\\AppData\\Local\\Temp\\ipykernel_15208\\2910278570.py:4: DtypeWarning: Columns (3) have mixed types. Specify dtype option on import or set low_memory=False.\n",
      "  books = pd.read_csv('./Dataset/BX-Books.csv', delimiter=\";\", encoding=\"latin-1\", on_bad_lines='skip')\n"
     ]
    },
    {
     "data": {
      "text/html": [
       "<div>\n",
       "<style scoped>\n",
       "    .dataframe tbody tr th:only-of-type {\n",
       "        vertical-align: middle;\n",
       "    }\n",
       "\n",
       "    .dataframe tbody tr th {\n",
       "        vertical-align: top;\n",
       "    }\n",
       "\n",
       "    .dataframe thead th {\n",
       "        text-align: right;\n",
       "    }\n",
       "</style>\n",
       "<table border=\"1\" class=\"dataframe\">\n",
       "  <thead>\n",
       "    <tr style=\"text-align: right;\">\n",
       "      <th></th>\n",
       "      <th>ISBN</th>\n",
       "      <th>bookTitle</th>\n",
       "      <th>bookAuthor</th>\n",
       "      <th>yearOfPublication</th>\n",
       "      <th>publisher</th>\n",
       "      <th>imageURLS</th>\n",
       "      <th>imageURLM</th>\n",
       "      <th>imageURLL</th>\n",
       "    </tr>\n",
       "  </thead>\n",
       "  <tbody>\n",
       "    <tr>\n",
       "      <th>0</th>\n",
       "      <td>0195153448</td>\n",
       "      <td>Classical Mythology</td>\n",
       "      <td>Mark P. O. Morford</td>\n",
       "      <td>2002</td>\n",
       "      <td>Oxford University Press</td>\n",
       "      <td>http://images.amazon.com/images/P/0195153448.01.THUMBZZZ.jpg</td>\n",
       "      <td>http://images.amazon.com/images/P/0195153448.01.MZZZZZZZ.jpg</td>\n",
       "      <td>http://images.amazon.com/images/P/0195153448.01.LZZZZZZZ.jpg</td>\n",
       "    </tr>\n",
       "    <tr>\n",
       "      <th>1</th>\n",
       "      <td>0002005018</td>\n",
       "      <td>Clara Callan</td>\n",
       "      <td>Richard Bruce Wright</td>\n",
       "      <td>2001</td>\n",
       "      <td>HarperFlamingo Canada</td>\n",
       "      <td>http://images.amazon.com/images/P/0002005018.01.THUMBZZZ.jpg</td>\n",
       "      <td>http://images.amazon.com/images/P/0002005018.01.MZZZZZZZ.jpg</td>\n",
       "      <td>http://images.amazon.com/images/P/0002005018.01.LZZZZZZZ.jpg</td>\n",
       "    </tr>\n",
       "    <tr>\n",
       "      <th>2</th>\n",
       "      <td>0060973129</td>\n",
       "      <td>Decision in Normandy</td>\n",
       "      <td>Carlo D'Este</td>\n",
       "      <td>1991</td>\n",
       "      <td>HarperPerennial</td>\n",
       "      <td>http://images.amazon.com/images/P/0060973129.01.THUMBZZZ.jpg</td>\n",
       "      <td>http://images.amazon.com/images/P/0060973129.01.MZZZZZZZ.jpg</td>\n",
       "      <td>http://images.amazon.com/images/P/0060973129.01.LZZZZZZZ.jpg</td>\n",
       "    </tr>\n",
       "    <tr>\n",
       "      <th>3</th>\n",
       "      <td>0374157065</td>\n",
       "      <td>Flu: The Story of the Great Influenza Pandemic of 1918 and the Search for the Virus That Caused It</td>\n",
       "      <td>Gina Bari Kolata</td>\n",
       "      <td>1999</td>\n",
       "      <td>Farrar Straus Giroux</td>\n",
       "      <td>http://images.amazon.com/images/P/0374157065.01.THUMBZZZ.jpg</td>\n",
       "      <td>http://images.amazon.com/images/P/0374157065.01.MZZZZZZZ.jpg</td>\n",
       "      <td>http://images.amazon.com/images/P/0374157065.01.LZZZZZZZ.jpg</td>\n",
       "    </tr>\n",
       "    <tr>\n",
       "      <th>4</th>\n",
       "      <td>0393045218</td>\n",
       "      <td>The Mummies of Urumchi</td>\n",
       "      <td>E. J. W. Barber</td>\n",
       "      <td>1999</td>\n",
       "      <td>W. W. Norton &amp;amp; Company</td>\n",
       "      <td>http://images.amazon.com/images/P/0393045218.01.THUMBZZZ.jpg</td>\n",
       "      <td>http://images.amazon.com/images/P/0393045218.01.MZZZZZZZ.jpg</td>\n",
       "      <td>http://images.amazon.com/images/P/0393045218.01.LZZZZZZZ.jpg</td>\n",
       "    </tr>\n",
       "  </tbody>\n",
       "</table>\n",
       "</div>"
      ],
      "text/plain": [
       "         ISBN  \\\n",
       "0  0195153448   \n",
       "1  0002005018   \n",
       "2  0060973129   \n",
       "3  0374157065   \n",
       "4  0393045218   \n",
       "\n",
       "                                                                                            bookTitle  \\\n",
       "0                                                                                 Classical Mythology   \n",
       "1                                                                                        Clara Callan   \n",
       "2                                                                                Decision in Normandy   \n",
       "3  Flu: The Story of the Great Influenza Pandemic of 1918 and the Search for the Virus That Caused It   \n",
       "4                                                                              The Mummies of Urumchi   \n",
       "\n",
       "             bookAuthor yearOfPublication                   publisher  \\\n",
       "0    Mark P. O. Morford              2002     Oxford University Press   \n",
       "1  Richard Bruce Wright              2001       HarperFlamingo Canada   \n",
       "2          Carlo D'Este              1991             HarperPerennial   \n",
       "3      Gina Bari Kolata              1999        Farrar Straus Giroux   \n",
       "4       E. J. W. Barber              1999  W. W. Norton &amp; Company   \n",
       "\n",
       "                                                      imageURLS  \\\n",
       "0  http://images.amazon.com/images/P/0195153448.01.THUMBZZZ.jpg   \n",
       "1  http://images.amazon.com/images/P/0002005018.01.THUMBZZZ.jpg   \n",
       "2  http://images.amazon.com/images/P/0060973129.01.THUMBZZZ.jpg   \n",
       "3  http://images.amazon.com/images/P/0374157065.01.THUMBZZZ.jpg   \n",
       "4  http://images.amazon.com/images/P/0393045218.01.THUMBZZZ.jpg   \n",
       "\n",
       "                                                      imageURLM  \\\n",
       "0  http://images.amazon.com/images/P/0195153448.01.MZZZZZZZ.jpg   \n",
       "1  http://images.amazon.com/images/P/0002005018.01.MZZZZZZZ.jpg   \n",
       "2  http://images.amazon.com/images/P/0060973129.01.MZZZZZZZ.jpg   \n",
       "3  http://images.amazon.com/images/P/0374157065.01.MZZZZZZZ.jpg   \n",
       "4  http://images.amazon.com/images/P/0393045218.01.MZZZZZZZ.jpg   \n",
       "\n",
       "                                                      imageURLL  \n",
       "0  http://images.amazon.com/images/P/0195153448.01.LZZZZZZZ.jpg  \n",
       "1  http://images.amazon.com/images/P/0002005018.01.LZZZZZZZ.jpg  \n",
       "2  http://images.amazon.com/images/P/0060973129.01.LZZZZZZZ.jpg  \n",
       "3  http://images.amazon.com/images/P/0374157065.01.LZZZZZZZ.jpg  \n",
       "4  http://images.amazon.com/images/P/0393045218.01.LZZZZZZZ.jpg  "
      ]
     },
     "execution_count": 4,
     "metadata": {},
     "output_type": "execute_result"
    }
   ],
   "source": [
    "# Load the Books Dataset\n",
    "\n",
    "# Load the dataset from a CSV file\n",
    "books = pd.read_csv('./Dataset/BX-Books.csv', delimiter=\";\", encoding=\"latin-1\", on_bad_lines='skip')\n",
    "\n",
    "# Rename the columns for easier access\n",
    "books.columns = ['ISBN', 'bookTitle', 'bookAuthor', 'yearOfPublication', 'publisher', 'imageURLS', 'imageURLM', 'imageURLL']\n",
    "\n",
    "# Display the first few rows of the books dataset\n",
    "books.head()\n"
   ]
  },
  {
   "cell_type": "code",
   "execution_count": 5,
   "metadata": {},
   "outputs": [
    {
     "name": "stdout",
     "output_type": "stream",
     "text": [
      "<class 'pandas.core.frame.DataFrame'>\n",
      "RangeIndex: 271360 entries, 0 to 271359\n",
      "Data columns (total 8 columns):\n",
      " #   Column             Non-Null Count   Dtype \n",
      "---  ------             --------------   ----- \n",
      " 0   ISBN               271360 non-null  object\n",
      " 1   bookTitle          271360 non-null  object\n",
      " 2   bookAuthor         271358 non-null  object\n",
      " 3   yearOfPublication  271360 non-null  object\n",
      " 4   publisher          271358 non-null  object\n",
      " 5   imageURLS          271360 non-null  object\n",
      " 6   imageURLM          271360 non-null  object\n",
      " 7   imageURLL          271357 non-null  object\n",
      "dtypes: object(8)\n",
      "memory usage: 16.6+ MB\n",
      "None\n",
      "ISBN                 0\n",
      "bookTitle            0\n",
      "bookAuthor           2\n",
      "yearOfPublication    0\n",
      "publisher            2\n",
      "imageURLS            0\n",
      "imageURLM            0\n",
      "imageURLL            3\n",
      "dtype: int64\n"
     ]
    }
   ],
   "source": [
    "print(books.info())\n",
    "print(books.isnull().sum())"
   ]
  },
  {
   "cell_type": "code",
   "execution_count": 6,
   "metadata": {
    "colab": {
     "base_uri": "https://localhost:8080/",
     "height": 74
    },
    "colab_type": "code",
    "id": "-ddZtFaOYaa6",
    "outputId": "a71e2e2c-82c7-444b-9ca3-ffea75099bf3"
   },
   "outputs": [
    {
     "name": "stdout",
     "output_type": "stream",
     "text": [
      "(1149780, 3)\n",
      "(278858, 3)\n",
      "(271360, 8)\n"
     ]
    }
   ],
   "source": [
    "print(ratings.shape)\n",
    "print(users.shape)\n",
    "print(books.shape)\n"
   ]
  },
  {
   "cell_type": "code",
   "execution_count": 7,
   "metadata": {
    "colab": {},
    "colab_type": "code",
    "id": "d1tGoaG1b2NL"
   },
   "outputs": [
    {
     "data": {
      "text/html": [
       "<div>\n",
       "<style scoped>\n",
       "    .dataframe tbody tr th:only-of-type {\n",
       "        vertical-align: middle;\n",
       "    }\n",
       "\n",
       "    .dataframe tbody tr th {\n",
       "        vertical-align: top;\n",
       "    }\n",
       "\n",
       "    .dataframe thead th {\n",
       "        text-align: right;\n",
       "    }\n",
       "</style>\n",
       "<table border=\"1\" class=\"dataframe\">\n",
       "  <thead>\n",
       "    <tr style=\"text-align: right;\">\n",
       "      <th></th>\n",
       "      <th>ISBN</th>\n",
       "      <th>bookTitle</th>\n",
       "      <th>bookAuthor</th>\n",
       "      <th>yearOfPublication</th>\n",
       "      <th>publisher</th>\n",
       "    </tr>\n",
       "  </thead>\n",
       "  <tbody>\n",
       "    <tr>\n",
       "      <th>0</th>\n",
       "      <td>0195153448</td>\n",
       "      <td>Classical Mythology</td>\n",
       "      <td>Mark P. O. Morford</td>\n",
       "      <td>2002</td>\n",
       "      <td>Oxford University Press</td>\n",
       "    </tr>\n",
       "    <tr>\n",
       "      <th>1</th>\n",
       "      <td>0002005018</td>\n",
       "      <td>Clara Callan</td>\n",
       "      <td>Richard Bruce Wright</td>\n",
       "      <td>2001</td>\n",
       "      <td>HarperFlamingo Canada</td>\n",
       "    </tr>\n",
       "    <tr>\n",
       "      <th>2</th>\n",
       "      <td>0060973129</td>\n",
       "      <td>Decision in Normandy</td>\n",
       "      <td>Carlo D'Este</td>\n",
       "      <td>1991</td>\n",
       "      <td>HarperPerennial</td>\n",
       "    </tr>\n",
       "    <tr>\n",
       "      <th>3</th>\n",
       "      <td>0374157065</td>\n",
       "      <td>Flu: The Story of the Great Influenza Pandemic of 1918 and the Search for the Virus That Caused It</td>\n",
       "      <td>Gina Bari Kolata</td>\n",
       "      <td>1999</td>\n",
       "      <td>Farrar Straus Giroux</td>\n",
       "    </tr>\n",
       "    <tr>\n",
       "      <th>4</th>\n",
       "      <td>0393045218</td>\n",
       "      <td>The Mummies of Urumchi</td>\n",
       "      <td>E. J. W. Barber</td>\n",
       "      <td>1999</td>\n",
       "      <td>W. W. Norton &amp;amp; Company</td>\n",
       "    </tr>\n",
       "  </tbody>\n",
       "</table>\n",
       "</div>"
      ],
      "text/plain": [
       "         ISBN  \\\n",
       "0  0195153448   \n",
       "1  0002005018   \n",
       "2  0060973129   \n",
       "3  0374157065   \n",
       "4  0393045218   \n",
       "\n",
       "                                                                                            bookTitle  \\\n",
       "0                                                                                 Classical Mythology   \n",
       "1                                                                                        Clara Callan   \n",
       "2                                                                                Decision in Normandy   \n",
       "3  Flu: The Story of the Great Influenza Pandemic of 1918 and the Search for the Virus That Caused It   \n",
       "4                                                                              The Mummies of Urumchi   \n",
       "\n",
       "             bookAuthor yearOfPublication                   publisher  \n",
       "0    Mark P. O. Morford              2002     Oxford University Press  \n",
       "1  Richard Bruce Wright              2001       HarperFlamingo Canada  \n",
       "2          Carlo D'Este              1991             HarperPerennial  \n",
       "3      Gina Bari Kolata              1999        Farrar Straus Giroux  \n",
       "4       E. J. W. Barber              1999  W. W. Norton &amp; Company  "
      ]
     },
     "execution_count": 7,
     "metadata": {},
     "output_type": "execute_result"
    }
   ],
   "source": [
    "# Dropping Unnecessary Image Columns\n",
    "\n",
    "# Drop the image URL columns from the books DataFrame\n",
    "books.drop(['imageURLS', 'imageURLM', 'imageURLL'], axis=1, inplace=True)\n",
    "\n",
    "# Display the first few rows of the updated books dataset\n",
    "books.head()\n"
   ]
  },
  {
   "cell_type": "markdown",
   "metadata": {
    "colab_type": "text",
    "id": "WAiJt0zPrYHp"
   },
   "source": [
    "# **DATA WRANGLING**"
   ]
  },
  {
   "cell_type": "code",
   "execution_count": 8,
   "metadata": {
    "colab": {
     "base_uri": "https://localhost:8080/",
     "height": 92
    },
    "colab_type": "code",
    "id": "om-_iaB_fgIN",
    "outputId": "de18a4dc-b346-4c28-9522-404f31e8b4b6"
   },
   "outputs": [
    {
     "name": "stdout",
     "output_type": "stream",
     "text": [
      "Ratings Data Types:\n",
      "userId         int64\n",
      "ISBN          object\n",
      "bookRating     int64\n",
      "dtype: object\n",
      "\n",
      "Unique Book Ratings:\n",
      "[ 0  5  3  6  8  7 10  9  4  1  2]\n",
      "\n",
      "Users Data Types:\n",
      "userId        int64\n",
      "location     object\n",
      "age         float64\n",
      "dtype: object\n",
      "\n",
      "Books Data Types:\n",
      "ISBN                 object\n",
      "bookTitle            object\n",
      "bookAuthor           object\n",
      "yearOfPublication    object\n",
      "publisher            object\n",
      "dtype: object\n",
      "\n",
      "Unique Years of Publication:\n",
      "[2002 2001 1991 1999 2000 1993 1996 1988 2004 1998 1994 2003 1997 1983\n",
      " 1979 1995 1982 1985 1992 1986 1978 1980 1952 1987 1990 1981 1989 1984 0\n",
      " 1968 1961 1958 1974 1976 1971 1977 1975 1965 1941 1970 1962 1973 1972\n",
      " 1960 1966 1920 1956 1959 1953 1951 1942 1963 1964 1969 1954 1950 1967\n",
      " 2005 1957 1940 1937 1955 1946 1936 1930 2011 1925 1948 1943 1947 1945\n",
      " 1923 2020 1939 1926 1938 2030 1911 1904 1949 1932 1928 1929 1927 1931\n",
      " 1914 2050 1934 1910 1933 1902 1924 1921 1900 2038 2026 1944 1917 1901\n",
      " 2010 1908 1906 1935 1806 2021 '2000' '1995' '1999' '2004' '2003' '1990'\n",
      " '1994' '1986' '1989' '2002' '1981' '1993' '1983' '1982' '1976' '1991'\n",
      " '1977' '1998' '1992' '1996' '0' '1997' '2001' '1974' '1968' '1987' '1984'\n",
      " '1988' '1963' '1956' '1970' '1985' '1978' '1973' '1980' '1979' '1975'\n",
      " '1969' '1961' '1965' '1939' '1958' '1950' '1953' '1966' '1971' '1959'\n",
      " '1972' '1955' '1957' '1945' '1960' '1967' '1932' '1924' '1964' '2012'\n",
      " '1911' '1927' '1948' '1962' '2006' '1952' '1940' '1951' '1931' '1954'\n",
      " '2005' '1930' '1941' '1944' 'DK Publishing Inc' '1943' '1938' '1900'\n",
      " '1942' '1923' '1920' '1933' 'Gallimard' '1909' '1946' '2008' '1378'\n",
      " '2030' '1936' '1947' '2011' '2020' '1919' '1949' '1922' '1897' '2024'\n",
      " '1376' '1926' '2037']\n"
     ]
    }
   ],
   "source": [
    "# Check the data types of the ratings DataFrame\n",
    "print(\"Ratings Data Types:\")\n",
    "print(ratings.dtypes)\n",
    "\n",
    "# Check unique book ratings\n",
    "print(\"\\nUnique Book Ratings:\")\n",
    "print(ratings['bookRating'].unique())\n",
    "\n",
    "# Check the data types of the users DataFrame\n",
    "print(\"\\nUsers Data Types:\")\n",
    "print(users.dtypes)\n",
    "\n",
    "# Check the data types of the books DataFrame\n",
    "print(\"\\nBooks Data Types:\")\n",
    "print(books.dtypes)\n",
    "\n",
    "# Check unique years of publication in the books DataFrame\n",
    "print(\"\\nUnique Years of Publication:\")\n",
    "print(books['yearOfPublication'].unique())\n"
   ]
  },
  {
   "cell_type": "markdown",
   "metadata": {
    "colab_type": "text",
    "id": "EA9AHbLTJLKW"
   },
   "source": [
    "# **DATA CLEANING**"
   ]
  },
  {
   "cell_type": "code",
   "execution_count": 9,
   "metadata": {
    "colab": {
     "base_uri": "https://localhost:8080/",
     "height": 147
    },
    "colab_type": "code",
    "id": "9wMDtFzkIy8g",
    "outputId": "b29b3dd7-ec7c-44d8-aeed-93bfce04ab03"
   },
   "outputs": [
    {
     "name": "stdout",
     "output_type": "stream",
     "text": [
      "Invalid Year Entries:\n",
      "              ISBN  \\\n",
      "209538  078946697X   \n",
      "221678  0789466953   \n",
      "\n",
      "                                                                                                          bookTitle  \\\n",
      "209538         DK Readers: Creating the X-Men, How It All Began (Level 4: Proficient Readers)\\\";Michael Teitelbaum\"   \n",
      "221678  DK Readers: Creating the X-Men, How Comic Books Come to Life (Level 4: Proficient Readers)\\\";James Buckley\"   \n",
      "\n",
      "       bookAuthor  yearOfPublication  \\\n",
      "209538       2000  DK Publishing Inc   \n",
      "221678       2000  DK Publishing Inc   \n",
      "\n",
      "                                                           publisher  \n",
      "209538  http://images.amazon.com/images/P/078946697X.01.THUMBZZZ.jpg  \n",
      "221678  http://images.amazon.com/images/P/0789466953.01.THUMBZZZ.jpg  \n",
      "\n",
      "Other Invalid Year Entries:\n",
      "              ISBN  \\\n",
      "220731  2070426769   \n",
      "\n",
      "                                                                       bookTitle  \\\n",
      "220731  Peuple du ciel, suivi de 'Les Bergers\\\";Jean-Marie Gustave Le ClÃ?Â©zio\"   \n",
      "\n",
      "       bookAuthor yearOfPublication  \\\n",
      "220731       2003         Gallimard   \n",
      "\n",
      "                                                           publisher  \n",
      "220731  http://images.amazon.com/images/P/2070426769.01.THUMBZZZ.jpg  \n",
      "\n",
      "Rows with Non-Numeric Year Values:\n",
      "              ISBN  \\\n",
      "209538  078946697X   \n",
      "220731  2070426769   \n",
      "221678  0789466953   \n",
      "\n",
      "                                                                                                          bookTitle  \\\n",
      "209538         DK Readers: Creating the X-Men, How It All Began (Level 4: Proficient Readers)\\\";Michael Teitelbaum\"   \n",
      "220731                                     Peuple du ciel, suivi de 'Les Bergers\\\";Jean-Marie Gustave Le ClÃ?Â©zio\"   \n",
      "221678  DK Readers: Creating the X-Men, How Comic Books Come to Life (Level 4: Proficient Readers)\\\";James Buckley\"   \n",
      "\n",
      "       bookAuthor  yearOfPublication  \\\n",
      "209538       2000  DK Publishing Inc   \n",
      "220731       2003          Gallimard   \n",
      "221678       2000  DK Publishing Inc   \n",
      "\n",
      "                                                           publisher  \n",
      "209538  http://images.amazon.com/images/P/078946697X.01.THUMBZZZ.jpg  \n",
      "220731  http://images.amazon.com/images/P/2070426769.01.THUMBZZZ.jpg  \n",
      "221678  http://images.amazon.com/images/P/0789466953.01.THUMBZZZ.jpg  \n"
     ]
    }
   ],
   "source": [
    "\n",
    "# Check for invalid entries in the yearOfPublication column\n",
    "invalid_years = books.loc[books['yearOfPublication'] == 'DK Publishing Inc', :]\n",
    "print(\"Invalid Year Entries:\")\n",
    "print(invalid_years)\n",
    "\n",
    "# Display entries with other invalid year values\n",
    "print(\"\\nOther Invalid Year Entries:\")\n",
    "print(books[books['yearOfPublication'].str.contains('Gallimard', na=False, case=False)])\n",
    "\n",
    "# Display all rows where yearOfPublication is not numeric or has invalid values\n",
    "print(\"\\nRows with Non-Numeric Year Values:\")\n",
    "non_numeric_years = books[~books['yearOfPublication'].astype(str).str.isnumeric()]\n",
    "print(non_numeric_years)\n"
   ]
  },
  {
   "cell_type": "code",
   "execution_count": 55,
   "metadata": {
    "colab": {},
    "colab_type": "code",
    "id": "SUL52CLVNp4n"
   },
   "outputs": [],
   "source": [
    "books.loc[books.ISBN == '078946697X','yearOfPublication'] = 2000\n",
    "books.loc[books.ISBN == '078946697X','bookAuthor'] = \"Michael Teitelbaum\"\n",
    "books.loc[books.ISBN == '078946697X','publisher'] = \"DK Publishing Inc\"\n",
    "\n"
   ]
  },
  {
   "cell_type": "code",
   "execution_count": 56,
   "metadata": {
    "colab": {},
    "colab_type": "code",
    "id": "eCullCcBPCWq"
   },
   "outputs": [],
   "source": [
    "books.loc[books.ISBN == '0789466953', 'yearOfPublication'] = 2000\n",
    "books.loc[books.ISBN == '0789466953', 'bookAuthor'] = \"James Buckley\"\n",
    "books.loc[books.ISBN == '0789466953', 'publisher'] = \"DK Publishing Inc\""
   ]
  },
  {
   "cell_type": "code",
   "execution_count": 57,
   "metadata": {
    "colab": {
     "base_uri": "https://localhost:8080/",
     "height": 98
    },
    "colab_type": "code",
    "id": "IK936XN1MxcP",
    "outputId": "e13e7d6c-7b80-47b0-d0a0-39ced2eaaacd"
   },
   "outputs": [
    {
     "data": {
      "text/html": [
       "<div>\n",
       "<style scoped>\n",
       "    .dataframe tbody tr th:only-of-type {\n",
       "        vertical-align: middle;\n",
       "    }\n",
       "\n",
       "    .dataframe tbody tr th {\n",
       "        vertical-align: top;\n",
       "    }\n",
       "\n",
       "    .dataframe thead th {\n",
       "        text-align: right;\n",
       "    }\n",
       "</style>\n",
       "<table border=\"1\" class=\"dataframe\">\n",
       "  <thead>\n",
       "    <tr style=\"text-align: right;\">\n",
       "      <th></th>\n",
       "      <th>ISBN</th>\n",
       "      <th>bookTitle</th>\n",
       "      <th>bookAuthor</th>\n",
       "      <th>yearOfPublication</th>\n",
       "      <th>publisher</th>\n",
       "    </tr>\n",
       "  </thead>\n",
       "  <tbody>\n",
       "    <tr>\n",
       "      <th>220731</th>\n",
       "      <td>2070426769</td>\n",
       "      <td>Peuple du ciel, suivi de 'Les Bergers\\\";Jean-Marie Gustave Le ClÃ?Â©zio\"</td>\n",
       "      <td>2003</td>\n",
       "      <td>Gallimard</td>\n",
       "      <td>http://images.amazon.com/images/P/2070426769.01.THUMBZZZ.jpg</td>\n",
       "    </tr>\n",
       "  </tbody>\n",
       "</table>\n",
       "</div>"
      ],
      "text/plain": [
       "              ISBN  \\\n",
       "220731  2070426769   \n",
       "\n",
       "                                                                       bookTitle  \\\n",
       "220731  Peuple du ciel, suivi de 'Les Bergers\\\";Jean-Marie Gustave Le ClÃ?Â©zio\"   \n",
       "\n",
       "       bookAuthor yearOfPublication  \\\n",
       "220731       2003         Gallimard   \n",
       "\n",
       "                                                           publisher  \n",
       "220731  http://images.amazon.com/images/P/2070426769.01.THUMBZZZ.jpg  "
      ]
     },
     "execution_count": 57,
     "metadata": {},
     "output_type": "execute_result"
    }
   ],
   "source": [
    "books.loc[books.yearOfPublication == 'Gallimard']"
   ]
  },
  {
   "cell_type": "code",
   "execution_count": 58,
   "metadata": {
    "colab": {},
    "colab_type": "code",
    "id": "le8IrzlxRpZj"
   },
   "outputs": [],
   "source": [
    "books.loc[books.ISBN == '2070426769','yearOfPublication'] = 2003\n",
    "books.loc[books.ISBN == '2070426769','bookAuthor'] = 'Jean-Marie Gustave Le ClÃ?Â©zio'\n",
    "books.loc[books.ISBN == '2070426769','publisher'] = 'Gallimard'"
   ]
  },
  {
   "cell_type": "code",
   "execution_count": 59,
   "metadata": {
    "colab": {},
    "colab_type": "code",
    "id": "mt80HYp5TY0R"
   },
   "outputs": [],
   "source": [
    "books.yearOfPublication = pd.to_numeric(books.yearOfPublication)"
   ]
  },
  {
   "cell_type": "code",
   "execution_count": 60,
   "metadata": {
    "colab": {
     "base_uri": "https://localhost:8080/",
     "height": 2206
    },
    "colab_type": "code",
    "id": "2b7WY7PdsWE7",
    "outputId": "e35afa39-aee7-4450-a30d-d11d4b46c3ff"
   },
   "outputs": [
    {
     "data": {
      "text/plain": [
       "[0,\n",
       " 1376,\n",
       " 1378,\n",
       " 1806,\n",
       " 1897,\n",
       " 1900,\n",
       " 1901,\n",
       " 1902,\n",
       " 1904,\n",
       " 1906,\n",
       " 1908,\n",
       " 1909,\n",
       " 1910,\n",
       " 1911,\n",
       " 1914,\n",
       " 1917,\n",
       " 1919,\n",
       " 1920,\n",
       " 1921,\n",
       " 1922,\n",
       " 1923,\n",
       " 1924,\n",
       " 1925,\n",
       " 1926,\n",
       " 1927,\n",
       " 1928,\n",
       " 1929,\n",
       " 1930,\n",
       " 1931,\n",
       " 1932,\n",
       " 1933,\n",
       " 1934,\n",
       " 1935,\n",
       " 1936,\n",
       " 1937,\n",
       " 1938,\n",
       " 1939,\n",
       " 1940,\n",
       " 1941,\n",
       " 1942,\n",
       " 1943,\n",
       " 1944,\n",
       " 1945,\n",
       " 1946,\n",
       " 1947,\n",
       " 1948,\n",
       " 1949,\n",
       " 1950,\n",
       " 1951,\n",
       " 1952,\n",
       " 1953,\n",
       " 1954,\n",
       " 1955,\n",
       " 1956,\n",
       " 1957,\n",
       " 1958,\n",
       " 1959,\n",
       " 1960,\n",
       " 1961,\n",
       " 1962,\n",
       " 1963,\n",
       " 1964,\n",
       " 1965,\n",
       " 1966,\n",
       " 1967,\n",
       " 1968,\n",
       " 1969,\n",
       " 1970,\n",
       " 1971,\n",
       " 1972,\n",
       " 1973,\n",
       " 1974,\n",
       " 1975,\n",
       " 1976,\n",
       " 1977,\n",
       " 1978,\n",
       " 1979,\n",
       " 1980,\n",
       " 1981,\n",
       " 1982,\n",
       " 1983,\n",
       " 1984,\n",
       " 1985,\n",
       " 1986,\n",
       " 1987,\n",
       " 1988,\n",
       " 1989,\n",
       " 1990,\n",
       " 1991,\n",
       " 1992,\n",
       " 1993,\n",
       " 1994,\n",
       " 1995,\n",
       " 1996,\n",
       " 1997,\n",
       " 1998,\n",
       " 1999,\n",
       " 2000,\n",
       " 2001,\n",
       " 2002,\n",
       " 2003,\n",
       " 2004,\n",
       " 2005,\n",
       " 2006,\n",
       " 2008,\n",
       " 2010,\n",
       " 2011,\n",
       " 2012,\n",
       " 2020,\n",
       " 2021,\n",
       " 2024,\n",
       " 2026,\n",
       " 2030,\n",
       " 2037,\n",
       " 2038,\n",
       " 2050]"
      ]
     },
     "execution_count": 60,
     "metadata": {},
     "output_type": "execute_result"
    }
   ],
   "source": [
    "sorted(books['yearOfPublication'].unique())"
   ]
  },
  {
   "cell_type": "code",
   "execution_count": 10,
   "metadata": {
    "colab": {
     "base_uri": "https://localhost:8080/",
     "height": 2027
    },
    "colab_type": "code",
    "id": "ZuWc8wpQVKqg",
    "outputId": "53e97261-cda0-417c-fe04-2999893dbc2a"
   },
   "outputs": [
    {
     "name": "stdout",
     "output_type": "stream",
     "text": [
      "Books with Year of Publication == 0:\n",
      "              ISBN  \\\n",
      "176     3150000335   \n",
      "188     342311360X   \n",
      "288     0571197639   \n",
      "351     3596214629   \n",
      "542     8845229041   \n",
      "...            ...   \n",
      "270794  014029953X   \n",
      "270913  0340571187   \n",
      "271094  8427201079   \n",
      "271182  0887781721   \n",
      "271196  3150013763   \n",
      "\n",
      "                                                           bookTitle  \\\n",
      "176                                                 Kabale Und Liebe   \n",
      "188                                          Die Liebe in Den Zelten   \n",
      "288                                      Poisonwood Bible Edition Uk   \n",
      "351                     Herr Der Fliegen (Fiction, Poetry and Drama)   \n",
      "542     Biblioteca Universale Rizzoli: Sulla Sponda Del Fiume Piedra   \n",
      "...                                                              ...   \n",
      "270794                                    Foe (Essential.penguin S.)   \n",
      "270913                                                Postmens House   \n",
      "271094                                      El Misterio De Sittaford   \n",
      "271182                                                     Tom Penny   \n",
      "271196                                                Der Hofmeister   \n",
      "\n",
      "                    bookAuthor yearOfPublication  \\\n",
      "176                   Schiller                 0   \n",
      "188     Gabriel Garcia Marquez                 0   \n",
      "288         Barbara Kingsolver                 0   \n",
      "351                    Golding                 0   \n",
      "542                   P Coelho                 0   \n",
      "...                        ...               ...   \n",
      "270794            J.M. Coetzee                 0   \n",
      "270913        Maggie Hemingway                 0   \n",
      "271094         Agatha Christie                 0   \n",
      "271182             Tony German                 0   \n",
      "271196              Jakob Lenz                 0   \n",
      "\n",
      "                                 publisher  \n",
      "176        Philipp Reclam, Jun Verlag GmbH  \n",
      "188     Deutscher Taschenbuch Verlag (DTV)  \n",
      "288                        Faber Faber Inc  \n",
      "351        Fischer Taschenbuch Verlag GmbH  \n",
      "542                     Fabbri - RCS Libri  \n",
      "...                                    ...  \n",
      "270794                   Penguin Books Ltd  \n",
      "270913                    Trafalgar Square  \n",
      "271094                    Editorial Molino  \n",
      "271182                P. Martin Associates  \n",
      "271196     Philipp Reclam, Jun Verlag GmbH  \n",
      "\n",
      "[3570 rows x 5 columns]\n",
      "\n",
      "Books with Year of Publication == 1376:\n",
      "Empty DataFrame\n",
      "Columns: [ISBN, bookTitle, bookAuthor, yearOfPublication, publisher]\n",
      "Index: []\n"
     ]
    }
   ],
   "source": [
    "# **ANALYZING INVALID PUBLICATION YEARS**\n",
    "\n",
    "# Identify books with yearOfPublication equal to 0\n",
    "books_with_zero_year = books.loc[books['yearOfPublication'] == 0, :]\n",
    "print(\"Books with Year of Publication == 0:\")\n",
    "print(books_with_zero_year)\n",
    "\n",
    "# Identify books with yearOfPublication equal to 1376\n",
    "books_with_invalid_year = books.loc[books['yearOfPublication'] == 1376, :]\n",
    "print(\"\\nBooks with Year of Publication == 1376:\")\n",
    "print(books_with_invalid_year)\n"
   ]
  },
  {
   "cell_type": "markdown",
   "metadata": {
    "colab_type": "text",
    "id": "pzpYUOptrUbN"
   },
   "source": [
    "# **MERGING DATAFRAMES**\n"
   ]
  },
  {
   "cell_type": "code",
   "execution_count": 11,
   "metadata": {
    "colab_type": "text",
    "id": "xs0dbOLBrlO3"
   },
   "outputs": [
    {
     "name": "stdout",
     "output_type": "stream",
     "text": [
      "Merged Ratings and Books DataFrame:\n",
      "   userId        ISBN  bookRating  \\\n",
      "0  276725  034545104X           0   \n",
      "1  276726  0155061224           5   \n",
      "2  276727  0446520802           0   \n",
      "3  276729  052165615X           3   \n",
      "4  276729  0521795028           6   \n",
      "\n",
      "                                                        bookTitle  \\\n",
      "0                                            Flesh Tones: A Novel   \n",
      "1                                                Rites of Passage   \n",
      "2                                                    The Notebook   \n",
      "3                                                  Help!: Level 1   \n",
      "4  The Amsterdam Connection : Level 4 (Cambridge English Readers)   \n",
      "\n",
      "        bookAuthor yearOfPublication                   publisher  \n",
      "0       M. J. Rose              2002            Ballantine Books  \n",
      "1       Judith Rae              2001                      Heinle  \n",
      "2  Nicholas Sparks              1996                Warner Books  \n",
      "3    Philip Prowse              1999  Cambridge University Press  \n",
      "4      Sue Leather              2001  Cambridge University Press  \n"
     ]
    }
   ],
   "source": [
    "\n",
    "# Merge the ratings DataFrame with the books DataFrame on the ISBN column\n",
    "rating_book = pd.merge(ratings, books, on='ISBN')\n",
    "\n",
    "# Display the first few rows of the merged DataFrame\n",
    "print(\"Merged Ratings and Books DataFrame:\")\n",
    "print(rating_book.head())\n"
   ]
  },
  {
   "cell_type": "code",
   "execution_count": 12,
   "metadata": {
    "colab": {
     "base_uri": "https://localhost:8080/",
     "height": 206
    },
    "colab_type": "code",
    "id": "-Dncqo73vgsz",
    "outputId": "7340036c-c47a-4fae-a168-74bdbc74a61c"
   },
   "outputs": [
    {
     "data": {
      "text/html": [
       "<div>\n",
       "<style scoped>\n",
       "    .dataframe tbody tr th:only-of-type {\n",
       "        vertical-align: middle;\n",
       "    }\n",
       "\n",
       "    .dataframe tbody tr th {\n",
       "        vertical-align: top;\n",
       "    }\n",
       "\n",
       "    .dataframe thead th {\n",
       "        text-align: right;\n",
       "    }\n",
       "</style>\n",
       "<table border=\"1\" class=\"dataframe\">\n",
       "  <thead>\n",
       "    <tr style=\"text-align: right;\">\n",
       "      <th></th>\n",
       "      <th>userId</th>\n",
       "      <th>ISBN</th>\n",
       "      <th>bookRating</th>\n",
       "      <th>bookTitle</th>\n",
       "      <th>bookAuthor</th>\n",
       "      <th>yearOfPublication</th>\n",
       "      <th>publisher</th>\n",
       "    </tr>\n",
       "  </thead>\n",
       "  <tbody>\n",
       "    <tr>\n",
       "      <th>0</th>\n",
       "      <td>276725</td>\n",
       "      <td>034545104X</td>\n",
       "      <td>0</td>\n",
       "      <td>Flesh Tones: A Novel</td>\n",
       "      <td>M. J. Rose</td>\n",
       "      <td>2002</td>\n",
       "      <td>Ballantine Books</td>\n",
       "    </tr>\n",
       "    <tr>\n",
       "      <th>1</th>\n",
       "      <td>276726</td>\n",
       "      <td>0155061224</td>\n",
       "      <td>5</td>\n",
       "      <td>Rites of Passage</td>\n",
       "      <td>Judith Rae</td>\n",
       "      <td>2001</td>\n",
       "      <td>Heinle</td>\n",
       "    </tr>\n",
       "    <tr>\n",
       "      <th>2</th>\n",
       "      <td>276727</td>\n",
       "      <td>0446520802</td>\n",
       "      <td>0</td>\n",
       "      <td>The Notebook</td>\n",
       "      <td>Nicholas Sparks</td>\n",
       "      <td>1996</td>\n",
       "      <td>Warner Books</td>\n",
       "    </tr>\n",
       "    <tr>\n",
       "      <th>3</th>\n",
       "      <td>276729</td>\n",
       "      <td>052165615X</td>\n",
       "      <td>3</td>\n",
       "      <td>Help!: Level 1</td>\n",
       "      <td>Philip Prowse</td>\n",
       "      <td>1999</td>\n",
       "      <td>Cambridge University Press</td>\n",
       "    </tr>\n",
       "    <tr>\n",
       "      <th>4</th>\n",
       "      <td>276729</td>\n",
       "      <td>0521795028</td>\n",
       "      <td>6</td>\n",
       "      <td>The Amsterdam Connection : Level 4 (Cambridge English Readers)</td>\n",
       "      <td>Sue Leather</td>\n",
       "      <td>2001</td>\n",
       "      <td>Cambridge University Press</td>\n",
       "    </tr>\n",
       "  </tbody>\n",
       "</table>\n",
       "</div>"
      ],
      "text/plain": [
       "   userId        ISBN  bookRating  \\\n",
       "0  276725  034545104X           0   \n",
       "1  276726  0155061224           5   \n",
       "2  276727  0446520802           0   \n",
       "3  276729  052165615X           3   \n",
       "4  276729  0521795028           6   \n",
       "\n",
       "                                                        bookTitle  \\\n",
       "0                                            Flesh Tones: A Novel   \n",
       "1                                                Rites of Passage   \n",
       "2                                                    The Notebook   \n",
       "3                                                  Help!: Level 1   \n",
       "4  The Amsterdam Connection : Level 4 (Cambridge English Readers)   \n",
       "\n",
       "        bookAuthor yearOfPublication                   publisher  \n",
       "0       M. J. Rose              2002            Ballantine Books  \n",
       "1       Judith Rae              2001                      Heinle  \n",
       "2  Nicholas Sparks              1996                Warner Books  \n",
       "3    Philip Prowse              1999  Cambridge University Press  \n",
       "4      Sue Leather              2001  Cambridge University Press  "
      ]
     },
     "execution_count": 12,
     "metadata": {},
     "output_type": "execute_result"
    }
   ],
   "source": [
    "rating_book.head()"
   ]
  },
  {
   "cell_type": "code",
   "execution_count": 13,
   "metadata": {
    "colab": {},
    "colab_type": "code",
    "id": "OZ_ygWMOwFQr"
   },
   "outputs": [
    {
     "name": "stdout",
     "output_type": "stream",
     "text": [
      "Merged Ratings, Books, and Users DataFrame:\n",
      "   userId        ISBN  bookRating  \\\n",
      "0  276725  034545104X           0   \n",
      "1  276726  0155061224           5   \n",
      "2  276727  0446520802           0   \n",
      "3  276729  052165615X           3   \n",
      "4  276729  0521795028           6   \n",
      "\n",
      "                                                        bookTitle  \\\n",
      "0                                            Flesh Tones: A Novel   \n",
      "1                                                Rites of Passage   \n",
      "2                                                    The Notebook   \n",
      "3                                                  Help!: Level 1   \n",
      "4  The Amsterdam Connection : Level 4 (Cambridge English Readers)   \n",
      "\n",
      "        bookAuthor yearOfPublication                   publisher  \\\n",
      "0       M. J. Rose              2002            Ballantine Books   \n",
      "1       Judith Rae              2001                      Heinle   \n",
      "2  Nicholas Sparks              1996                Warner Books   \n",
      "3    Philip Prowse              1999  Cambridge University Press   \n",
      "4      Sue Leather              2001  Cambridge University Press   \n",
      "\n",
      "                        location   age  \n",
      "0              tyler, texas, usa   NaN  \n",
      "1       seattle, washington, usa   NaN  \n",
      "2  h, new south wales, australia  16.0  \n",
      "3           rijeka, n/a, croatia  16.0  \n",
      "4           rijeka, n/a, croatia  16.0  \n"
     ]
    }
   ],
   "source": [
    "# **MERGING WITH USER DATA**\n",
    "\n",
    "# Merge the rating_book DataFrame with the users DataFrame on userId\n",
    "all_ratings = pd.merge(rating_book, users, on='userId')\n",
    "\n",
    "# Display the merged DataFrame to check the new dataset\n",
    "print(\"Merged Ratings, Books, and Users DataFrame:\")\n",
    "print(all_ratings.head())\n"
   ]
  },
  {
   "cell_type": "code",
   "execution_count": 14,
   "metadata": {
    "colab": {
     "base_uri": "https://localhost:8080/",
     "height": 293
    },
    "colab_type": "code",
    "id": "54OJWUiJxk_Y",
    "outputId": "34ac5e0c-093a-44c9-a503-e23cc35445c4"
   },
   "outputs": [
    {
     "data": {
      "text/html": [
       "<div>\n",
       "<style scoped>\n",
       "    .dataframe tbody tr th:only-of-type {\n",
       "        vertical-align: middle;\n",
       "    }\n",
       "\n",
       "    .dataframe tbody tr th {\n",
       "        vertical-align: top;\n",
       "    }\n",
       "\n",
       "    .dataframe thead th {\n",
       "        text-align: right;\n",
       "    }\n",
       "</style>\n",
       "<table border=\"1\" class=\"dataframe\">\n",
       "  <thead>\n",
       "    <tr style=\"text-align: right;\">\n",
       "      <th></th>\n",
       "      <th>userId</th>\n",
       "      <th>ISBN</th>\n",
       "      <th>bookRating</th>\n",
       "      <th>bookTitle</th>\n",
       "      <th>bookAuthor</th>\n",
       "      <th>yearOfPublication</th>\n",
       "      <th>publisher</th>\n",
       "      <th>location</th>\n",
       "      <th>age</th>\n",
       "    </tr>\n",
       "  </thead>\n",
       "  <tbody>\n",
       "    <tr>\n",
       "      <th>0</th>\n",
       "      <td>276725</td>\n",
       "      <td>034545104X</td>\n",
       "      <td>0</td>\n",
       "      <td>Flesh Tones: A Novel</td>\n",
       "      <td>M. J. Rose</td>\n",
       "      <td>2002</td>\n",
       "      <td>Ballantine Books</td>\n",
       "      <td>tyler, texas, usa</td>\n",
       "      <td>NaN</td>\n",
       "    </tr>\n",
       "    <tr>\n",
       "      <th>1</th>\n",
       "      <td>276726</td>\n",
       "      <td>0155061224</td>\n",
       "      <td>5</td>\n",
       "      <td>Rites of Passage</td>\n",
       "      <td>Judith Rae</td>\n",
       "      <td>2001</td>\n",
       "      <td>Heinle</td>\n",
       "      <td>seattle, washington, usa</td>\n",
       "      <td>NaN</td>\n",
       "    </tr>\n",
       "    <tr>\n",
       "      <th>2</th>\n",
       "      <td>276727</td>\n",
       "      <td>0446520802</td>\n",
       "      <td>0</td>\n",
       "      <td>The Notebook</td>\n",
       "      <td>Nicholas Sparks</td>\n",
       "      <td>1996</td>\n",
       "      <td>Warner Books</td>\n",
       "      <td>h, new south wales, australia</td>\n",
       "      <td>16.0</td>\n",
       "    </tr>\n",
       "    <tr>\n",
       "      <th>3</th>\n",
       "      <td>276729</td>\n",
       "      <td>052165615X</td>\n",
       "      <td>3</td>\n",
       "      <td>Help!: Level 1</td>\n",
       "      <td>Philip Prowse</td>\n",
       "      <td>1999</td>\n",
       "      <td>Cambridge University Press</td>\n",
       "      <td>rijeka, n/a, croatia</td>\n",
       "      <td>16.0</td>\n",
       "    </tr>\n",
       "    <tr>\n",
       "      <th>4</th>\n",
       "      <td>276729</td>\n",
       "      <td>0521795028</td>\n",
       "      <td>6</td>\n",
       "      <td>The Amsterdam Connection : Level 4 (Cambridge English Readers)</td>\n",
       "      <td>Sue Leather</td>\n",
       "      <td>2001</td>\n",
       "      <td>Cambridge University Press</td>\n",
       "      <td>rijeka, n/a, croatia</td>\n",
       "      <td>16.0</td>\n",
       "    </tr>\n",
       "    <tr>\n",
       "      <th>...</th>\n",
       "      <td>...</td>\n",
       "      <td>...</td>\n",
       "      <td>...</td>\n",
       "      <td>...</td>\n",
       "      <td>...</td>\n",
       "      <td>...</td>\n",
       "      <td>...</td>\n",
       "      <td>...</td>\n",
       "      <td>...</td>\n",
       "    </tr>\n",
       "    <tr>\n",
       "      <th>1031131</th>\n",
       "      <td>276704</td>\n",
       "      <td>0876044011</td>\n",
       "      <td>0</td>\n",
       "      <td>Edgar Cayce on the Akashic Records: The Book of Life</td>\n",
       "      <td>Kevin J. Todeschi</td>\n",
       "      <td>1998</td>\n",
       "      <td>A.R.E. Press (Association of Research &amp;amp; Enlig</td>\n",
       "      <td>cedar park, texas, usa</td>\n",
       "      <td>NaN</td>\n",
       "    </tr>\n",
       "    <tr>\n",
       "      <th>1031132</th>\n",
       "      <td>276704</td>\n",
       "      <td>1563526298</td>\n",
       "      <td>9</td>\n",
       "      <td>Get Clark Smart : The Ultimate Guide for the Savvy Consumer</td>\n",
       "      <td>Clark Howard</td>\n",
       "      <td>2000</td>\n",
       "      <td>Longstreet Press</td>\n",
       "      <td>cedar park, texas, usa</td>\n",
       "      <td>NaN</td>\n",
       "    </tr>\n",
       "    <tr>\n",
       "      <th>1031133</th>\n",
       "      <td>276706</td>\n",
       "      <td>0679447156</td>\n",
       "      <td>0</td>\n",
       "      <td>Eight Weeks to Optimum Health: A Proven Program for Taking Full Advantage of Your Body's Natural Healing Power (Proven Program for Taking Full Advantage of Your Body's Natural Healing Power)</td>\n",
       "      <td>Andrew Weil</td>\n",
       "      <td>1997</td>\n",
       "      <td>Alfred A. Knopf</td>\n",
       "      <td>quebec, quebec, canada</td>\n",
       "      <td>18.0</td>\n",
       "    </tr>\n",
       "    <tr>\n",
       "      <th>1031134</th>\n",
       "      <td>276709</td>\n",
       "      <td>0515107662</td>\n",
       "      <td>10</td>\n",
       "      <td>The Sherbrooke Bride (Bride Trilogy (Paperback))</td>\n",
       "      <td>Catherine Coulter</td>\n",
       "      <td>1996</td>\n",
       "      <td>Jove Books</td>\n",
       "      <td>mannington, west virginia, usa</td>\n",
       "      <td>38.0</td>\n",
       "    </tr>\n",
       "    <tr>\n",
       "      <th>1031135</th>\n",
       "      <td>276721</td>\n",
       "      <td>0590442449</td>\n",
       "      <td>10</td>\n",
       "      <td>Fourth Grade Rats</td>\n",
       "      <td>Jerry Spinelli</td>\n",
       "      <td>1996</td>\n",
       "      <td>Scholastic</td>\n",
       "      <td>providence, rhode island, usa</td>\n",
       "      <td>14.0</td>\n",
       "    </tr>\n",
       "  </tbody>\n",
       "</table>\n",
       "<p>1031136 rows × 9 columns</p>\n",
       "</div>"
      ],
      "text/plain": [
       "         userId        ISBN  bookRating  \\\n",
       "0        276725  034545104X           0   \n",
       "1        276726  0155061224           5   \n",
       "2        276727  0446520802           0   \n",
       "3        276729  052165615X           3   \n",
       "4        276729  0521795028           6   \n",
       "...         ...         ...         ...   \n",
       "1031131  276704  0876044011           0   \n",
       "1031132  276704  1563526298           9   \n",
       "1031133  276706  0679447156           0   \n",
       "1031134  276709  0515107662          10   \n",
       "1031135  276721  0590442449          10   \n",
       "\n",
       "                                                                                                                                                                                              bookTitle  \\\n",
       "0                                                                                                                                                                                  Flesh Tones: A Novel   \n",
       "1                                                                                                                                                                                      Rites of Passage   \n",
       "2                                                                                                                                                                                          The Notebook   \n",
       "3                                                                                                                                                                                        Help!: Level 1   \n",
       "4                                                                                                                                        The Amsterdam Connection : Level 4 (Cambridge English Readers)   \n",
       "...                                                                                                                                                                                                 ...   \n",
       "1031131                                                                                                                                            Edgar Cayce on the Akashic Records: The Book of Life   \n",
       "1031132                                                                                                                                     Get Clark Smart : The Ultimate Guide for the Savvy Consumer   \n",
       "1031133  Eight Weeks to Optimum Health: A Proven Program for Taking Full Advantage of Your Body's Natural Healing Power (Proven Program for Taking Full Advantage of Your Body's Natural Healing Power)   \n",
       "1031134                                                                                                                                                The Sherbrooke Bride (Bride Trilogy (Paperback))   \n",
       "1031135                                                                                                                                                                               Fourth Grade Rats   \n",
       "\n",
       "                bookAuthor yearOfPublication  \\\n",
       "0               M. J. Rose              2002   \n",
       "1               Judith Rae              2001   \n",
       "2          Nicholas Sparks              1996   \n",
       "3            Philip Prowse              1999   \n",
       "4              Sue Leather              2001   \n",
       "...                    ...               ...   \n",
       "1031131  Kevin J. Todeschi              1998   \n",
       "1031132       Clark Howard              2000   \n",
       "1031133        Andrew Weil              1997   \n",
       "1031134  Catherine Coulter              1996   \n",
       "1031135     Jerry Spinelli              1996   \n",
       "\n",
       "                                                 publisher  \\\n",
       "0                                         Ballantine Books   \n",
       "1                                                   Heinle   \n",
       "2                                             Warner Books   \n",
       "3                               Cambridge University Press   \n",
       "4                               Cambridge University Press   \n",
       "...                                                    ...   \n",
       "1031131  A.R.E. Press (Association of Research &amp; Enlig   \n",
       "1031132                                   Longstreet Press   \n",
       "1031133                                    Alfred A. Knopf   \n",
       "1031134                                         Jove Books   \n",
       "1031135                                         Scholastic   \n",
       "\n",
       "                               location   age  \n",
       "0                     tyler, texas, usa   NaN  \n",
       "1              seattle, washington, usa   NaN  \n",
       "2         h, new south wales, australia  16.0  \n",
       "3                  rijeka, n/a, croatia  16.0  \n",
       "4                  rijeka, n/a, croatia  16.0  \n",
       "...                                 ...   ...  \n",
       "1031131          cedar park, texas, usa   NaN  \n",
       "1031132          cedar park, texas, usa   NaN  \n",
       "1031133          quebec, quebec, canada  18.0  \n",
       "1031134  mannington, west virginia, usa  38.0  \n",
       "1031135   providence, rhode island, usa  14.0  \n",
       "\n",
       "[1031136 rows x 9 columns]"
      ]
     },
     "execution_count": 14,
     "metadata": {},
     "output_type": "execute_result"
    }
   ],
   "source": [
    "all_ratings"
   ]
  },
  {
   "cell_type": "markdown",
   "metadata": {
    "colab_type": "text",
    "id": "z-jdj5IueI5R"
   },
   "source": [
    "# **VISUALIZING DATA SPARSITY AND SEGREGATING RATINGS**"
   ]
  },
  {
   "cell_type": "code",
   "execution_count": 15,
   "metadata": {
    "colab": {},
    "colab_type": "code",
    "id": "17vY2XX53D1G"
   },
   "outputs": [
    {
     "data": {
      "image/png": "[encoded data removed]",
      "text/plain": [
       "<Figure size 640x480 with 1 Axes>"
      ]
     },
     "metadata": {},
     "output_type": "display_data"
    },
    {
     "name": "stdout",
     "output_type": "stream",
     "text": [
      "Size of Explicit Ratings Dataset: (383842, 9)\n",
      "Size of Implicit Ratings Dataset: (647294, 9)\n"
     ]
    }
   ],
   "source": [
    "# Count the number of explicit and implicit ratings\n",
    "ratings_count = all_ratings['bookRating'].value_counts()\n",
    "sns.barplot(x=ratings_count.index, y=ratings_count.values)\n",
    "plt.title('Distribution of Book Ratings')\n",
    "plt.xlabel('Book Ratings')\n",
    "plt.ylabel('Count')\n",
    "plt.xticks(rotation=45)\n",
    "plt.show()\n",
    "\n",
    "# **Segregating explicit and implicit ratings datasets**\n",
    "ratings_explicit = all_ratings[all_ratings['bookRating'] != 0]\n",
    "ratings_implicit = all_ratings[all_ratings['bookRating'] == 0]\n",
    "\n",
    "# Display the size of the new datasets\n",
    "print(\"Size of Explicit Ratings Dataset:\", ratings_explicit.shape)\n",
    "print(\"Size of Implicit Ratings Dataset:\", ratings_implicit.shape)\n"
   ]
  },
  {
   "cell_type": "markdown",
   "metadata": {
    "colab_type": "text",
    "id": "PIFoeePNyYSE"
   },
   "source": [
    "# **LOADING FAST.AI AND CREATING COLLABORATIVE DATALOADERS**\n"
   ]
  },
  {
   "cell_type": "code",
   "execution_count": 16,
   "metadata": {},
   "outputs": [
    {
     "name": "stdout",
     "output_type": "stream",
     "text": [
      "Preview of the DataLoader:\n"
     ]
    },
    {
     "data": {
      "text/html": [
       "<table border=\"1\" class=\"dataframe\">\n",
       "  <thead>\n",
       "    <tr style=\"text-align: right;\">\n",
       "      <th></th>\n",
       "      <th>userId</th>\n",
       "      <th>ISBN</th>\n",
       "      <th>bookRating</th>\n",
       "    </tr>\n",
       "  </thead>\n",
       "  <tbody>\n",
       "    <tr>\n",
       "      <th>0</th>\n",
       "      <td>186032</td>\n",
       "      <td>076790396X</td>\n",
       "      <td>5</td>\n",
       "    </tr>\n",
       "    <tr>\n",
       "      <th>1</th>\n",
       "      <td>238735</td>\n",
       "      <td>0064408620</td>\n",
       "      <td>8</td>\n",
       "    </tr>\n",
       "    <tr>\n",
       "      <th>2</th>\n",
       "      <td>198711</td>\n",
       "      <td>038529929X</td>\n",
       "      <td>0</td>\n",
       "    </tr>\n",
       "    <tr>\n",
       "      <th>3</th>\n",
       "      <td>229011</td>\n",
       "      <td>0440211484</td>\n",
       "      <td>6</td>\n",
       "    </tr>\n",
       "    <tr>\n",
       "      <th>4</th>\n",
       "      <td>245827</td>\n",
       "      <td>0517702835</td>\n",
       "      <td>0</td>\n",
       "    </tr>\n",
       "    <tr>\n",
       "      <th>5</th>\n",
       "      <td>162155</td>\n",
       "      <td>0821759442</td>\n",
       "      <td>0</td>\n",
       "    </tr>\n",
       "    <tr>\n",
       "      <th>6</th>\n",
       "      <td>138898</td>\n",
       "      <td>0321049314</td>\n",
       "      <td>0</td>\n",
       "    </tr>\n",
       "    <tr>\n",
       "      <th>7</th>\n",
       "      <td>238557</td>\n",
       "      <td>0345351525</td>\n",
       "      <td>0</td>\n",
       "    </tr>\n",
       "    <tr>\n",
       "      <th>8</th>\n",
       "      <td>198711</td>\n",
       "      <td>0816730253</td>\n",
       "      <td>0</td>\n",
       "    </tr>\n",
       "    <tr>\n",
       "      <th>9</th>\n",
       "      <td>102647</td>\n",
       "      <td>055358085X</td>\n",
       "      <td>0</td>\n",
       "    </tr>\n",
       "  </tbody>\n",
       "</table>"
      ],
      "text/plain": [
       "<IPython.core.display.HTML object>"
      ]
     },
     "metadata": {},
     "output_type": "display_data"
    }
   ],
   "source": [
    "# Drop NaN values in 'bookRating' and 'bookTitle' for cleaner data\n",
    "all_ratings = all_ratings.dropna(subset=['bookRating', 'bookTitle'])\n",
    "\n",
    "# Ensure 'bookRating' is numeric (some might have been loaded as strings)\n",
    "all_ratings['bookRating'] = pd.to_numeric(all_ratings['bookRating'], errors='coerce')\n",
    "\n",
    "# Import necessary Fast.ai modules\n",
    "from fastai.collab import *\n",
    "\n",
    "# Create a CollabDataLoader using the cleaned all_ratings DataFrame\n",
    "data = CollabDataLoaders.from_df(all_ratings, \n",
    "                                   seed=42, \n",
    "                                   valid_pct=0.1, \n",
    "                                   user_name='userId', \n",
    "                                   item_name='ISBN', \n",
    "                                   rating_name='bookRating')\n",
    "\n",
    "# Preview the DataLoader\n",
    "print(\"Preview of the DataLoader:\")\n",
    "data.show_batch()"
   ]
  },
  {
   "cell_type": "markdown",
   "metadata": {
    "colab_type": "text",
    "id": "uYwYEANN6SSY"
   },
   "source": [
    "# **CREATING A COLLAB_LEARNER**"
   ]
  },
  {
   "cell_type": "code",
   "execution_count": 52,
   "metadata": {
    "colab": {},
    "colab_type": "code",
    "id": "y9ZXoU9WiWKQ"
   },
   "outputs": [],
   "source": [
    "# Create a CollabLearner\n",
    "learn = collab_learner(data, n_factors=20, y_range=(0., 10.0), wd=1e-1)"
   ]
  },
  {
   "cell_type": "code",
   "execution_count": 53,
   "metadata": {
    "colab": {
     "base_uri": "https://localhost:8080/",
     "height": 112
    },
    "colab_type": "code",
    "id": "jLrb5idCiWtd",
    "outputId": "da8b3772-59f6-4743-80c4-e2f07d90f645"
   },
   "outputs": [
    {
     "data": {
      "text/html": [
       "\n",
       "<style>\n",
       "    /* Turns off some styling */\n",
       "    progress {\n",
       "        /* gets rid of default border in Firefox and Opera. */\n",
       "        border: none;\n",
       "        /* Needs to be in here for Safari polyfill so background images work as expected. */\n",
       "        background-size: auto;\n",
       "    }\n",
       "    progress:not([value]), progress:not([value])::-webkit-progress-bar {\n",
       "        background: repeating-linear-gradient(45deg, #7e7e7e, #7e7e7e 10px, #5c5c5c 10px, #5c5c5c 20px);\n",
       "    }\n",
       "    .progress-bar-interrupted, .progress-bar-interrupted::-webkit-progress-bar {\n",
       "        background: #F44336;\n",
       "    }\n",
       "</style>\n"
      ],
      "text/plain": [
       "<IPython.core.display.HTML object>"
      ]
     },
     "metadata": {},
     "output_type": "display_data"
    },
    {
     "data": {
      "text/html": [],
      "text/plain": [
       "<IPython.core.display.HTML object>"
      ]
     },
     "metadata": {},
     "output_type": "display_data"
    },
    {
     "name": "stderr",
     "output_type": "stream",
     "text": [
      "C:\\Users\\asus\\anaconda3\\envs\\en2\\Lib\\site-packages\\fastai\\learner.py:53: FutureWarning: You are using `torch.load` with `weights_only=False` (the current default value), which uses the default pickle module implicitly. It is possible to construct malicious pickle data which will execute arbitrary code during unpickling (See https://github.com/pytorch/pytorch/blob/main/SECURITY.md#untrusted-models for more details). In a future release, the default value for `weights_only` will be flipped to `True`. This limits the functions that could be executed during unpickling. Arbitrary objects will no longer be allowed to be loaded via this mode unless they are explicitly allowlisted by the user via `torch.serialization.add_safe_globals`. We recommend you start setting `weights_only=True` for any use case where you don't have full control of the loaded file. Please open an issue on GitHub for any issues related to this experimental feature.\n",
      "  state = torch.load(file, map_location=device, **torch_load_kwargs)\n"
     ]
    },
    {
     "data": {
      "text/plain": [
       "SuggestedLRs(valley=0.17378008365631104)"
      ]
     },
     "execution_count": 53,
     "metadata": {},
     "output_type": "execute_result"
    },
    {
     "data": {
      "image/png": "[encoded data removed]",
      "text/plain": [
       "<Figure size 640x480 with 1 Axes>"
      ]
     },
     "metadata": {},
     "output_type": "display_data"
    }
   ],
   "source": [
    "# Finding the optimal learning rate\n",
    "learn.lr_find()"
   ]
  },
  {
   "cell_type": "code",
   "execution_count": 54,
   "metadata": {
    "colab": {
     "base_uri": "https://localhost:8080/",
     "height": 361
    },
    "colab_type": "code",
    "id": "09XXahsPiXQW",
    "outputId": "7a580002-fd3f-4aff-fa60-80c4536388f0"
   },
   "outputs": [
    {
     "data": {
      "text/plain": [
       "<Axes: title={'center': 'learning curve'}, xlabel='steps', ylabel='loss'>"
      ]
     },
     "execution_count": 54,
     "metadata": {},
     "output_type": "execute_result"
    },
    {
     "data": {
      "image/png": "[encoded data removed]",
      "text/plain": [
       "<Figure size 640x480 with 1 Axes>"
      ]
     },
     "metadata": {},
     "output_type": "display_data"
    }
   ],
   "source": [
    "# Plotting the loss to visualize the learning rate\n",
    "learn.recorder.plot_loss()"
   ]
  },
  {
   "cell_type": "markdown",
   "metadata": {
    "colab_type": "text",
    "id": "VYL8o5xrll24"
   },
   "source": [
    "# **TRAINING THE MODEL**"
   ]
  },
  {
   "cell_type": "code",
   "execution_count": 55,
   "metadata": {
    "colab": {
     "base_uri": "https://localhost:8080/",
     "height": 168
    },
    "colab_type": "code",
    "id": "4dHvhYwelvr9",
    "outputId": "4c62a434-4e0d-4f52-efe8-7d4183c50713"
   },
   "outputs": [
    {
     "data": {
      "text/html": [
       "\n",
       "<style>\n",
       "    /* Turns off some styling */\n",
       "    progress {\n",
       "        /* gets rid of default border in Firefox and Opera. */\n",
       "        border: none;\n",
       "        /* Needs to be in here for Safari polyfill so background images work as expected. */\n",
       "        background-size: auto;\n",
       "    }\n",
       "    progress:not([value]), progress:not([value])::-webkit-progress-bar {\n",
       "        background: repeating-linear-gradient(45deg, #7e7e7e, #7e7e7e 10px, #5c5c5c 10px, #5c5c5c 20px);\n",
       "    }\n",
       "    .progress-bar-interrupted, .progress-bar-interrupted::-webkit-progress-bar {\n",
       "        background: #F44336;\n",
       "    }\n",
       "</style>\n"
      ],
      "text/plain": [
       "<IPython.core.display.HTML object>"
      ]
     },
     "metadata": {},
     "output_type": "display_data"
    },
    {
     "data": {
      "text/html": [
       "<table border=\"1\" class=\"dataframe\">\n",
       "  <thead>\n",
       "    <tr style=\"text-align: left;\">\n",
       "      <th>epoch</th>\n",
       "      <th>train_loss</th>\n",
       "      <th>valid_loss</th>\n",
       "      <th>time</th>\n",
       "    </tr>\n",
       "  </thead>\n",
       "  <tbody>\n",
       "    <tr>\n",
       "      <td>0</td>\n",
       "      <td>14.332728</td>\n",
       "      <td>14.385139</td>\n",
       "      <td>02:32</td>\n",
       "    </tr>\n",
       "    <tr>\n",
       "      <td>1</td>\n",
       "      <td>14.933424</td>\n",
       "      <td>15.160814</td>\n",
       "      <td>02:34</td>\n",
       "    </tr>\n",
       "    <tr>\n",
       "      <td>2</td>\n",
       "      <td>14.971286</td>\n",
       "      <td>15.154833</td>\n",
       "      <td>02:36</td>\n",
       "    </tr>\n",
       "    <tr>\n",
       "      <td>3</td>\n",
       "      <td>14.933825</td>\n",
       "      <td>15.109237</td>\n",
       "      <td>01:54</td>\n",
       "    </tr>\n",
       "    <tr>\n",
       "      <td>4</td>\n",
       "      <td>15.015147</td>\n",
       "      <td>15.031466</td>\n",
       "      <td>02:25</td>\n",
       "    </tr>\n",
       "    <tr>\n",
       "      <td>5</td>\n",
       "      <td>14.697900</td>\n",
       "      <td>14.734993</td>\n",
       "      <td>02:11</td>\n",
       "    </tr>\n",
       "    <tr>\n",
       "      <td>6</td>\n",
       "      <td>14.014921</td>\n",
       "      <td>14.298814</td>\n",
       "      <td>01:36</td>\n",
       "    </tr>\n",
       "    <tr>\n",
       "      <td>7</td>\n",
       "      <td>13.663280</td>\n",
       "      <td>13.824518</td>\n",
       "      <td>01:37</td>\n",
       "    </tr>\n",
       "    <tr>\n",
       "      <td>8</td>\n",
       "      <td>12.907281</td>\n",
       "      <td>13.460971</td>\n",
       "      <td>01:49</td>\n",
       "    </tr>\n",
       "    <tr>\n",
       "      <td>9</td>\n",
       "      <td>12.521990</td>\n",
       "      <td>13.199234</td>\n",
       "      <td>01:47</td>\n",
       "    </tr>\n",
       "  </tbody>\n",
       "</table>"
      ],
      "text/plain": [
       "<IPython.core.display.HTML object>"
      ]
     },
     "metadata": {},
     "output_type": "display_data"
    }
   ],
   "source": [
    "# Fit the model using the chosen learning rate\n",
    "learn.fit_one_cycle(10, 0.17378008365631104)"
   ]
  },
  {
   "cell_type": "markdown",
   "metadata": {},
   "source": [
    "# **VALIDATING THE MODEL**"
   ]
  },
  {
   "cell_type": "code",
   "execution_count": 56,
   "metadata": {},
   "outputs": [
    {
     "data": {
      "text/html": [
       "\n",
       "<style>\n",
       "    /* Turns off some styling */\n",
       "    progress {\n",
       "        /* gets rid of default border in Firefox and Opera. */\n",
       "        border: none;\n",
       "        /* Needs to be in here for Safari polyfill so background images work as expected. */\n",
       "        background-size: auto;\n",
       "    }\n",
       "    progress:not([value]), progress:not([value])::-webkit-progress-bar {\n",
       "        background: repeating-linear-gradient(45deg, #7e7e7e, #7e7e7e 10px, #5c5c5c 10px, #5c5c5c 20px);\n",
       "    }\n",
       "    .progress-bar-interrupted, .progress-bar-interrupted::-webkit-progress-bar {\n",
       "        background: #F44336;\n",
       "    }\n",
       "</style>\n"
      ],
      "text/plain": [
       "<IPython.core.display.HTML object>"
      ]
     },
     "metadata": {},
     "output_type": "display_data"
    },
    {
     "data": {
      "text/html": [],
      "text/plain": [
       "<IPython.core.display.HTML object>"
      ]
     },
     "metadata": {},
     "output_type": "display_data"
    },
    {
     "data": {
      "text/plain": [
       "(#1) [13.199234008789062]"
      ]
     },
     "execution_count": 56,
     "metadata": {},
     "output_type": "execute_result"
    }
   ],
   "source": [
    "# Validate the model to assess its performance on the validation set\n",
    "validation_results = learn.validate()\n",
    "print(f'Validation Loss: {validation_results[0]}, RMSE: {validation_results[1]}')"
   ]
  },
  {
   "cell_type": "markdown",
   "metadata": {},
   "source": [
    "# **SAVING THE MODEL**"
   ]
  },
  {
   "cell_type": "code",
   "execution_count": 57,
   "metadata": {
    "colab": {},
    "colab_type": "code",
    "id": "bRDOB3JQ6zwO"
   },
   "outputs": [
    {
     "data": {
      "text/plain": [
       "Path('models/book_recommendation_model.pth')"
      ]
     },
     "execution_count": 57,
     "metadata": {},
     "output_type": "execute_result"
    }
   ],
   "source": [
    "# Save the trained model for future use\n",
    "learn.save('book_recommendation_model')"
   ]
  },
  {
   "cell_type": "code",
   "execution_count": 76,
   "metadata": {},
   "outputs": [
    {
     "name": "stdout",
     "output_type": "stream",
     "text": [
      "Données prétraitées sauvegardées dans preprocessed_data.csv\n",
      "DataLoader sauvegardé dans dataloader.pkl\n"
     ]
    }
   ],
   "source": [
    "# **FUNCTION: SAVE PREPROCESSED DATA**\n",
    "def save_preprocessed_data(all_ratings, filename='preprocessed_data.csv'):\n",
    "    all_ratings.to_csv(filename, index=False)\n",
    "    print(f\"Données prétraitées sauvegardées dans {filename}\")\n",
    "\n",
    "# **FUNCTION: SAVE DATALOADER**\n",
    "def save_dataloader(data, filename='dataloader.pkl'):\n",
    "    with open(filename, 'wb') as f:\n",
    "        pickle.dump(data, f)\n",
    "    print(f\"DataLoader sauvegardé dans {filename}\")\n",
    "\n",
    "# **FUNCTION: LOAD PREPROCESSED DATA**\n",
    "def load_preprocessed_data(filename='preprocessed_data.csv'):\n",
    "    return pd.read_csv(filename)\n",
    "\n",
    "# **FUNCTION: LOAD DATALOADER**\n",
    "def load_dataloader(filename='dataloader.pkl'):\n",
    "    with open(filename, 'rb') as f:\n",
    "        return pickle.load(f)\n",
    "\n",
    "\n",
    "\n",
    "# **USAGE: SAVE DATA**\n",
    "save_preprocessed_data(all_ratings)\n",
    "save_dataloader(data)\n",
    "\n",
    "# **FUNCTION: LOAD DATA AND DATALOADER**\n",
    "def load_data_and_dataloader():\n",
    "    all_ratings = load_preprocessed_data()\n",
    "    data = load_dataloader()\n",
    "    return all_ratings, data\n",
    "\n",
    "# **EXAMPLE OF USAGE: LOAD DATA AND DATALOADER**\n",
    "all_ratings_, data_ = load_data_and_dataloader()"
   ]
  },
  {
   "cell_type": "code",
   "execution_count": 77,
   "metadata": {},
   "outputs": [
    {
     "name": "stderr",
     "output_type": "stream",
     "text": [
      "C:\\Users\\asus\\anaconda3\\envs\\en2\\Lib\\site-packages\\fastai\\learner.py:53: FutureWarning: You are using `torch.load` with `weights_only=False` (the current default value), which uses the default pickle module implicitly. It is possible to construct malicious pickle data which will execute arbitrary code during unpickling (See https://github.com/pytorch/pytorch/blob/main/SECURITY.md#untrusted-models for more details). In a future release, the default value for `weights_only` will be flipped to `True`. This limits the functions that could be executed during unpickling. Arbitrary objects will no longer be allowed to be loaded via this mode unless they are explicitly allowlisted by the user via `torch.serialization.add_safe_globals`. We recommend you start setting `weights_only=True` for any use case where you don't have full control of the loaded file. Please open an issue on GitHub for any issues related to this experimental feature.\n",
      "  state = torch.load(file, map_location=device, **torch_load_kwargs)\n"
     ]
    },
    {
     "data": {
      "text/plain": [
       "<fastai.learner.Learner at 0x2054c0a3470>"
      ]
     },
     "execution_count": 77,
     "metadata": {},
     "output_type": "execute_result"
    }
   ],
   "source": [
    "# Recréer l'objet Learner avec les données\n",
    "learn_ = collab_learner(data_, n_factors=20, y_range=(0., 10.0), wd=1e-1)\n",
    "\n",
    "# **LOAD THE MODEL**\n",
    "learn_.load('book_recommendation_model')"
   ]
  },
  {
   "cell_type": "code",
   "execution_count": 78,
   "metadata": {},
   "outputs": [
    {
     "data": {
      "text/html": [
       "\n",
       "<style>\n",
       "    /* Turns off some styling */\n",
       "    progress {\n",
       "        /* gets rid of default border in Firefox and Opera. */\n",
       "        border: none;\n",
       "        /* Needs to be in here for Safari polyfill so background images work as expected. */\n",
       "        background-size: auto;\n",
       "    }\n",
       "    progress:not([value]), progress:not([value])::-webkit-progress-bar {\n",
       "        background: repeating-linear-gradient(45deg, #7e7e7e, #7e7e7e 10px, #5c5c5c 10px, #5c5c5c 20px);\n",
       "    }\n",
       "    .progress-bar-interrupted, .progress-bar-interrupted::-webkit-progress-bar {\n",
       "        background: #F44336;\n",
       "    }\n",
       "</style>\n"
      ],
      "text/plain": [
       "<IPython.core.display.HTML object>"
      ]
     },
     "metadata": {},
     "output_type": "display_data"
    },
    {
     "data": {
      "text/html": [],
      "text/plain": [
       "<IPython.core.display.HTML object>"
      ]
     },
     "metadata": {},
     "output_type": "display_data"
    },
    {
     "name": "stdout",
     "output_type": "stream",
     "text": [
      "[('0439139597', 6.14607048034668), ('0446310786', 5.684464454650879), ('1844262553', 5.673132419586182), ('043935806X', 5.664853096008301), ('059035342X', 5.658758163452148), ('0812550706', 5.636228561401367), ('0590353403', 5.605792999267578), ('0440219078', 5.6015448570251465), ('0439136350', 5.564293384552002), ('0345339681', 5.550124645233154)]\n"
     ]
    }
   ],
   "source": [
    "def recommend_books(user_id, n_recommendations=10):\n",
    "    # Obtenir tous les ISBN uniques\n",
    "    books = all_ratings_['ISBN'].unique()\n",
    "    \n",
    "    # Obtenir les livres que l'utilisateur n'a pas encore notés\n",
    "    rated_books = all_ratings_[all_ratings['userId'] == user_id]['ISBN']\n",
    "    unrated_books = list(set(books) - set(rated_books))\n",
    "    \n",
    "    # Créer un DataFrame pour les prédictions\n",
    "    to_predict = pd.DataFrame({\n",
    "        'userId': [user_id] * len(unrated_books),\n",
    "        'ISBN': unrated_books\n",
    "    })\n",
    "    \n",
    "    # Créer un DataLoader pour les prédictions\n",
    "    dl = learn_.dls.test_dl(to_predict)\n",
    "    \n",
    "    # Obtenir les prédictions\n",
    "    preds, _ = learn_.get_preds(dl=dl)\n",
    "    \n",
    "    # Convertir les prédictions en une liste de tuples (ISBN, prédiction)\n",
    "    predicted_ratings = list(zip(unrated_books, preds.squeeze().tolist()))\n",
    "    \n",
    "    # Trier par note prédite\n",
    "    recommendations = sorted(predicted_ratings, key=lambda x: x[1], reverse=True)\n",
    "    \n",
    "    return recommendations[:n_recommendations]\n",
    "\n",
    "# **GET TOP BOOK RECOMMENDATIONS**\n",
    "# Obtenir les 10 meilleures recommandations de livres pour l'utilisateur 93550\n",
    "top_books = recommend_books(93550, 10)\n",
    "print(top_books)"
   ]
  },
  {
   "cell_type": "markdown",
   "metadata": {},
   "source": [
    "# **FUNCTION: PREPROCESS DATA**"
   ]
  },
  {
   "cell_type": "code",
   "execution_count": 72,
   "metadata": {},
   "outputs": [],
   "source": [
    "def preprocess_data(df):\n",
    "    df.fillna({\n",
    "        'bookTitle': 'Unknown',\n",
    "        'bookAuthor': 'Unknown',\n",
    "        'publisher': 'Unknown'\n",
    "    }, inplace=True)\n",
    "    df['features'] = df['bookTitle'] + \" \" + df['bookAuthor'] + \" \" + df['publisher']\n",
    "    return df\n",
    "\n",
    "# **FUNCTION: CREATE TF-IDF MATRIX**\n",
    "def create_tfidf_matrix(df, max_features=10000):\n",
    "    tfidf = TfidfVectorizer(stop_words='english', max_features=max_features)\n",
    "    return tfidf.fit_transform(df['features']), tfidf\n",
    "\n",
    "# **FUNCTION: BUILD ANNOY INDEX**\n",
    "def build_annoy_index(tfidf_matrix, n_trees=10):\n",
    "    dim = tfidf_matrix.shape[1]  # Dimension of each TF-IDF vector\n",
    "    annoy_index = AnnoyIndex(dim, 'angular')  # Using angular distance (similar to cosine)\n",
    "    for i in range(tfidf_matrix.shape[0]):\n",
    "        annoy_index.add_item(i, tfidf_matrix[i].toarray()[0])  # Add the TF-IDF vectors to the index\n",
    "    annoy_index.build(n_trees)  # Build the index with n trees\n",
    "    return annoy_index\n",
    "\n",
    "# **FUNCTION: RECOMMEND SIMILAR BOOKS**\n",
    "def recommend_similar_books_annoy(isbn, df, annoy_index, n=5):\n",
    "    try:\n",
    "        idx = df[df['ISBN'] == isbn].index[0]  # Find the index of the book by ISBN\n",
    "        book_indices = annoy_index.get_nns_by_item(idx, n+1)[1:]  # Get the n nearest neighbors (excluding the book itself)\n",
    "        return df.iloc[book_indices][['ISBN', 'bookTitle', 'bookAuthor', 'publisher']].to_dict(orient='records')\n",
    "    except IndexError:\n",
    "        return \"ISBN not found in dataset.\"\n",
    "\n",
    "# **FUNCTION: SAVE ANNOY INDEX**\n",
    "def save_annoy_index(annoy_index, file_path):\n",
    "    annoy_index.save(file_path)\n",
    "\n",
    "# **FUNCTION: SAVE TF-IDF VECTORIZER**\n",
    "def save_tfidf_vectorizer(tfidf_vectorizer, file_path):\n",
    "    with open(file_path, 'wb') as file:\n",
    "        pickle.dump(tfidf_vectorizer, file)\n"
   ]
  },
  {
   "cell_type": "code",
   "execution_count": null,
   "metadata": {},
   "outputs": [],
   "source": [
    "# **PREPROCESS THE DATA**\n",
    "books_ = preprocess_data(books)\n",
    "\n",
    "# **CREATE TF-IDF MATRIX**\n",
    "tfidf_matrix, tfidf_vectorizer = create_tfidf_matrix(books_)\n",
    "\n",
    "# **BUILD ANNOY INDEX**\n",
    "annoy_index = build_annoy_index(tfidf_matrix)"
   ]
  },
  {
   "cell_type": "markdown",
   "metadata": {},
   "source": [
    "# **SAVE ANNOY INDEX AND TF-IDF VECTORIZER FOR LATER USE**"
   ]
  },
  {
   "cell_type": "code",
   "execution_count": null,
   "metadata": {},
   "outputs": [],
   "source": [
    "save_annoy_index(annoy_index, 'annoy_index.ann')\n",
    "books_.to_csv(\"books_data.csv\", index=False)\n",
    "save_tfidf_vectorizer(tfidf_vectorizer, 'tfidf_vectorizer.pkl')"
   ]
  },
  {
   "cell_type": "markdown",
   "metadata": {},
   "source": [
    "# **RECOMMEND BOOKS BASED ON AN ISBN**"
   ]
  },
  {
   "cell_type": "code",
   "execution_count": null,
   "metadata": {},
   "outputs": [],
   "source": [
    "# **RECOMMEND BOOKS BASED ON AN ISBN**\n",
    "isbn = \"0312195516\"  # Replace with the ISBN of your reference book\n",
    "similar_books = recommend_similar_books_annoy(isbn, books_, annoy_index, n=5)\n",
    "\n",
    "# **DISPLAY RECOMMENDED BOOKS**\n",
    "print(f\"Books similar to ISBN {isbn}:\")\n",
    "for book in similar_books:\n",
    "    print(book)"
   ]
  }
 ],
 "metadata": {
  "accelerator": "GPU",
  "colab": {
   "collapsed_sections": [],
   "name": "Books-Recommendation System.ipynb",
   "provenance": [],
   "version": "0.3.2"
  },
  "kernelspec": {
   "display_name": "Python 3 (ipykernel)",
   "language": "python",
   "name": "python3"
  },
  "language_info": {
   "codemirror_mode": {
    "name": "ipython",
    "version": 3
   },
   "file_extension": ".py",
   "mimetype": "text/x-python",
   "name": "python",
   "nbconvert_exporter": "python",
   "pygments_lexer": "ipython3",
   "version": "3.12.7"
  }
 },
 "nbformat": 4,
 "nbformat_minor": 4
}
